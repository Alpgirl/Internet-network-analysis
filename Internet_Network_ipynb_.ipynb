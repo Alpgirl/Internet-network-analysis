{
  "cells": [
    {
      "cell_type": "code",
      "execution_count": null,
      "metadata": {
        "id": "Rte8GcEt_r0m"
      },
      "outputs": [],
      "source": [
        "!pip install powerlaw"
      ]
    },
    {
      "cell_type": "code",
      "execution_count": 1,
      "metadata": {
        "id": "N3Qgp_wOsIkk"
      },
      "outputs": [],
      "source": [
        "import numpy as np\n",
        "import matplotlib.pyplot as plt\n",
        "import copy\n",
        "import networkx as nx\n",
        "import pydot\n",
        "import itertools\n",
        "import matplotlib.pyplot as plt\n",
        "import numpy as np\n",
        "import matplotlib.pylab as pylab\n",
        "import pandas as pd\n",
        "#import powerlaw"
      ]
    },
    {
      "cell_type": "code",
      "execution_count": 2,
      "metadata": {
        "colab": {
          "base_uri": "https://localhost:8080/"
        },
        "id": "cu3KrxOL7hDs",
        "outputId": "55c04402-7319-4336-ac67-4eb0ab1c6e1a"
      },
      "outputs": [
        {
          "name": "stdout",
          "output_type": "stream",
          "text": [
            "Cloning into 'Internet-network-analysis'...\n",
            "remote: Enumerating objects: 7, done.\u001b[K\n",
            "remote: Counting objects: 100% (7/7), done.\u001b[K\n",
            "remote: Compressing objects: 100% (6/6), done.\u001b[K\n",
            "remote: Total 7 (delta 0), reused 4 (delta 0), pack-reused 0\u001b[K\n",
            "Receiving objects: 100% (7/7), 2.29 MiB | 4.46 MiB/s, done.\n"
          ]
        }
      ],
      "source": [
        "!git clone https://github.com/Alpgirl/Internet-network-analysis.git"
      ]
    },
    {
      "cell_type": "code",
      "execution_count": 4,
      "metadata": {
        "id": "WEgDlWnv7oE3"
      },
      "outputs": [],
      "source": [
        "original_G = nx.read_adjlist(\"data/itdk0304_rlinks_undirected\")"
      ]
    },
    {
      "cell_type": "code",
      "execution_count": 12,
      "metadata": {
        "id": "s7j8VejiI4G0"
      },
      "outputs": [],
      "source": [
        "#@title Beautiful figure transformer { form-width: \"300px\" }\n",
        "def make_beautiful(ax):\n",
        "    for axis in ['bottom','left']:\n",
        "        ax.spines[axis].set_linewidth(4)\n",
        "        ax.tick_params(width=4, direction = 'in', length = 8, pad=15)\n",
        "\n",
        "    for axis in ['top','right']:\n",
        "        ax.spines[axis].set_linewidth(0.0)\n",
        "\n",
        "    ax.locator_params(axis='x', nbins=8)\n",
        "    ax.locator_params(axis='y', nbins=8)\n",
        "    ax.tick_params(axis='x', which='major', labelsize=26)\n",
        "    ax.tick_params(axis='y', which='major', labelsize=26)\n",
        "\n",
        "    ax.xaxis.label.set_size(30)\n",
        "    ax.yaxis.label.set_size(30)\n",
        "\n",
        "    params = {'legend.fontsize': 18,\n",
        "              'axes.titlesize': 30,\n",
        "    }\n",
        "\n",
        "    pylab.rcParams.update(params)\n",
        "\n",
        "    return ax\n",
        "\n",
        "\n",
        "def create_default_figure(a=16, b=12):\n",
        "    fig, ax = plt.subplots(figsize = (a,b))\n",
        "    ax = make_beautiful(ax)\n",
        "\n",
        "    return fig, ax"
      ]
    },
    {
      "cell_type": "code",
      "execution_count": null,
      "metadata": {
        "colab": {
          "base_uri": "https://localhost:8080/"
        },
        "id": "UYf8P6QCFb5Z",
        "outputId": "9548ff95-194e-413c-df8e-b5ae37244fd8"
      },
      "outputs": [
        {
          "name": "stdout",
          "output_type": "stream",
          "text": [
            "Nodes: 192244\n",
            "Edges: 609066\n"
          ]
        }
      ],
      "source": [
        "#       - How many edges are in the network?\n",
        "#     \t- Degree, edge distribution\n",
        "print('Nodes:', original_G.number_of_nodes())\n",
        "print('Edges:', original_G.number_of_edges())"
      ]
    },
    {
      "cell_type": "code",
      "execution_count": 10,
      "metadata": {
        "id": "eK2-V7K6egx9"
      },
      "outputs": [],
      "source": [
        "#list of connected components\n",
        "\n",
        "def get_connected_components(G):\n",
        "    cc = list(nx.connected_components(G))\n",
        "    print(len(cc))\n",
        "    #sizes of connected components\n",
        "    sizes = [len(comp) for comp in cc]\n",
        "    print(max(sizes))\n",
        "    #it's distribution\n",
        "\n",
        "    fig, ax = plt.subplots(figsize = (12,8))\n",
        "    ax = make_beautiful(ax)\n",
        "\n",
        "    ax.hist(sizes, bins=100, log=True)\n",
        "\n",
        "    ax.set_xlabel('number of nodes in component')\n",
        "    ax.set_ylabel('Number of Instances')\n",
        "    ax.set_title(\"Connected Components Distribution\")\n",
        "    return cc"
      ]
    },
    {
      "cell_type": "code",
      "execution_count": null,
      "metadata": {
        "colab": {
          "base_uri": "https://localhost:8080/",
          "height": 832
        },
        "id": "eTOoornjZors",
        "outputId": "a754e4aa-b341-48d5-ad2e-228e7fdd60d1"
      },
      "outputs": [
        {
          "name": "stdout",
          "output_type": "stream",
          "text": [
            "308\n",
            "190914\n"
          ]
        },
        {
          "data": {
            "image/png": "[encoded data removed]",
            "text/plain": [
              "<Figure size 1200x800 with 1 Axes>"
            ]
          },
          "metadata": {},
          "output_type": "display_data"
        }
      ],
      "source": [
        "cc = get_connected_components(original_G)"
      ]
    },
    {
      "cell_type": "code",
      "execution_count": null,
      "metadata": {
        "colab": {
          "base_uri": "https://localhost:8080/"
        },
        "id": "UypVN--Fu3Hh",
        "outputId": "6367c9e4-c813-422b-cbb6-24f8c0183060"
      },
      "outputs": [
        {
          "name": "stdout",
          "output_type": "stream",
          "text": [
            "Density: 3.296028989724229e-05\n"
          ]
        }
      ],
      "source": [
        "print('Density:', nx.density(original_G))"
      ]
    },
    {
      "cell_type": "code",
      "execution_count": null,
      "metadata": {
        "colab": {
          "base_uri": "https://localhost:8080/"
        },
        "id": "R0KEKjjriyoQ",
        "outputId": "43ded582-ed46-4c87-ee94-a808f13a8633"
      },
      "outputs": [
        {
          "data": {
            "text/plain": [
              "99.30817086619088"
            ]
          },
          "execution_count": 10,
          "metadata": {},
          "output_type": "execute_result"
        }
      ],
      "source": [
        "190914/192244*100"
      ]
    },
    {
      "cell_type": "code",
      "execution_count": null,
      "metadata": {
        "id": "u_6d4wkasv_I"
      },
      "outputs": [],
      "source": [
        "#Degree distribution\n",
        "def degree_distribution(G):\n",
        "    degrees=[d for n, d in G.degree()]\n",
        "    print(np.mean(degrees))\n",
        "    print('Max degree:', np.max(degrees))\n",
        "    print('Min degree:', np.min(degrees))\n",
        "    fig, ax = plt.subplots(figsize = (12,8))\n",
        "    _ = ax.hist(degrees, bins=100, log=True)\n",
        "\n",
        "    #ax = make_beautiful(ax)\n",
        "    ax.set_title('Internet graph degree distribution')\n",
        "    ax.set_xlabel('k')\n",
        "    ax.set_ylabel(r'$\\rho(k)$')"
      ]
    },
    {
      "cell_type": "code",
      "execution_count": null,
      "metadata": {
        "colab": {
          "base_uri": "https://localhost:8080/",
          "height": 790
        },
        "id": "GX00Xv6qbybD",
        "outputId": "8444995a-1a17-4cdf-827f-f919dff98b77"
      },
      "outputs": [
        {
          "name": "stdout",
          "output_type": "stream",
          "text": [
            "6.336385010715549\n",
            "Max degree: 1071\n",
            "Min degree: 1\n"
          ]
        },
        {
          "data": {
            "image/png": "[encoded data removed]",
            "text/plain": [
              "<Figure size 1200x800 with 1 Axes>"
            ]
          },
          "metadata": {},
          "output_type": "display_data"
        }
      ],
      "source": [
        "degree_distribution(original_G)"
      ]
    },
    {
      "cell_type": "code",
      "execution_count": null,
      "metadata": {
        "colab": {
          "base_uri": "https://localhost:8080/"
        },
        "id": "AnI-629veRZa",
        "outputId": "df5ac147-89ac-43d7-f4ce-1139f148ec27"
      },
      "outputs": [
        {
          "data": {
            "text/plain": [
              "0.1574134171356701"
            ]
          },
          "execution_count": 13,
          "metadata": {},
          "output_type": "execute_result"
        }
      ],
      "source": [
        "nx.average_clustering(original_G)"
      ]
    },
    {
      "cell_type": "markdown",
      "metadata": {
        "id": "GS-ETbfGsqOp"
      },
      "source": [
        "\n",
        "**(2) Network Comparison to other networks(Erdos-Renyi, Scalar Free):**\n"
      ]
    },
    {
      "cell_type": "code",
      "execution_count": null,
      "metadata": {
        "id": "5O5uk1ldX_1L"
      },
      "outputs": [],
      "source": [
        "# NAstyas's code"
      ]
    },
    {
      "cell_type": "code",
      "execution_count": 5,
      "metadata": {
        "id": "ljG1uR5X5r3w"
      },
      "outputs": [],
      "source": [
        "# Reduce the number of nodes to calculate properties\n",
        "\n",
        "remove = [node for node,degree in dict(original_G.degree()).items() if degree < 40]\n",
        "G = original_G.copy()\n",
        "G.remove_nodes_from(remove)"
      ]
    },
    {
      "cell_type": "code",
      "execution_count": null,
      "metadata": {
        "id": "SniBKn4wh4h6"
      },
      "outputs": [],
      "source": [
        "remove2 = [node for node,degree in dict(original_G.degree()).items() if degree < 10]\n",
        "G2 = original_G.copy()\n",
        "G2.remove_nodes_from(remove2)"
      ]
    },
    {
      "cell_type": "code",
      "execution_count": null,
      "metadata": {
        "colab": {
          "base_uri": "https://localhost:8080/"
        },
        "id": "qJI8zbjmZL57",
        "outputId": "712a1ba1-af23-462b-c171-4779ee52cb3a"
      },
      "outputs": [
        {
          "name": "stdout",
          "output_type": "stream",
          "text": [
            "Nodes: 3578\n",
            "Edges: 45145\n"
          ]
        }
      ],
      "source": [
        "print('Nodes:', G.number_of_nodes())\n",
        "print('Edges:', G.number_of_edges())"
      ]
    },
    {
      "cell_type": "code",
      "execution_count": 13,
      "metadata": {
        "colab": {
          "base_uri": "https://localhost:8080/",
          "height": 832
        },
        "id": "GjMaV3_yZ5NN",
        "outputId": "dde4014a-f2bc-4492-9895-b353f39dc0f4"
      },
      "outputs": [
        {
          "name": "stdout",
          "output_type": "stream",
          "text": [
            "74\n",
            "3501\n"
          ]
        },
        {
          "data": {
            "image/png": "[encoded data removed]",
            "text/plain": [
              "<Figure size 1200x800 with 1 Axes>"
            ]
          },
          "metadata": {},
          "output_type": "display_data"
        }
      ],
      "source": [
        "G_cc = get_connected_components(G)"
      ]
    },
    {
      "cell_type": "code",
      "execution_count": null,
      "metadata": {
        "colab": {
          "base_uri": "https://localhost:8080/"
        },
        "id": "RaP0BT8NanZ5",
        "outputId": "c5d4892c-315b-4115-e468-d62c530fce2a"
      },
      "outputs": [
        {
          "name": "stdout",
          "output_type": "stream",
          "text": [
            "Density: 0.007054729669228581\n"
          ]
        }
      ],
      "source": [
        "print('Density:', nx.density(G))"
      ]
    },
    {
      "cell_type": "code",
      "execution_count": null,
      "metadata": {
        "colab": {
          "base_uri": "https://localhost:8080/"
        },
        "id": "Pbsz-uRzi9iJ",
        "outputId": "c952f4d7-4278-4f53-c660-2af82a30e7b1"
      },
      "outputs": [
        {
          "data": {
            "text/plain": [
              "97.1291866028708"
            ]
          },
          "execution_count": 31,
          "metadata": {},
          "output_type": "execute_result"
        }
      ],
      "source": [
        "10759/11077*100"
      ]
    },
    {
      "cell_type": "code",
      "execution_count": null,
      "metadata": {
        "colab": {
          "base_uri": "https://localhost:8080/",
          "height": 790
        },
        "id": "fjFMDZ2gb7bQ",
        "outputId": "0e7112c2-5a42-46d5-b154-f2c250dd9de3"
      },
      "outputs": [
        {
          "name": "stdout",
          "output_type": "stream",
          "text": [
            "25.234768026830633\n",
            "Max degree: 197\n",
            "Min degree: 0\n"
          ]
        },
        {
          "data": {
            "image/png": "[encoded data removed]",
            "text/plain": [
              "<Figure size 1200x800 with 1 Axes>"
            ]
          },
          "metadata": {},
          "output_type": "display_data"
        }
      ],
      "source": [
        "degree_distribution(G)"
      ]
    },
    {
      "cell_type": "code",
      "execution_count": 15,
      "metadata": {
        "id": "iA8tbgvTYWis"
      },
      "outputs": [],
      "source": [
        "largest_cc = max(nx.connected_components(G), key=len)\n",
        "Giant_component = G.subgraph(largest_cc).copy()"
      ]
    },
    {
      "cell_type": "code",
      "execution_count": 16,
      "metadata": {
        "colab": {
          "base_uri": "https://localhost:8080/"
        },
        "id": "0zZ0pzZhJI2V",
        "outputId": "9f47ae49-4eb7-422f-e961-801506c70429"
      },
      "outputs": [
        {
          "data": {
            "text/plain": [
              "3501"
            ]
          },
          "execution_count": 16,
          "metadata": {},
          "output_type": "execute_result"
        }
      ],
      "source": [
        "len(largest_cc)"
      ]
    },
    {
      "cell_type": "markdown",
      "metadata": {
        "id": "eJh3QYdYyBA-"
      },
      "source": [
        "Graph properties (diameter, raduis, average distance, no of connected components, size of largest cluster, connectivity, clustering coefficient...)"
      ]
    },
    {
      "cell_type": "code",
      "execution_count": 17,
      "metadata": {
        "colab": {
          "base_uri": "https://localhost:8080/"
        },
        "id": "TKZJ4OkGx_mv",
        "outputId": "ac154cc3-74dd-47c2-c5b9-c4615f7bb9b1"
      },
      "outputs": [
        {
          "name": "stdout",
          "output_type": "stream",
          "text": [
            "Diameter: 9\n"
          ]
        }
      ],
      "source": [
        "print('Diameter:', nx.diameter(Giant_component))"
      ]
    },
    {
      "cell_type": "code",
      "execution_count": 18,
      "metadata": {
        "colab": {
          "base_uri": "https://localhost:8080/"
        },
        "id": "HaqEWH_1yi5L",
        "outputId": "cb64dce6-5c1f-42ad-d678-7d61dbb3d60a"
      },
      "outputs": [
        {
          "name": "stdout",
          "output_type": "stream",
          "text": [
            "Average distance: 3.4011653813196228\n"
          ]
        }
      ],
      "source": [
        "print('Average distance:', nx.average_shortest_path_length(Giant_component))"
      ]
    },
    {
      "cell_type": "code",
      "execution_count": null,
      "metadata": {
        "colab": {
          "base_uri": "https://localhost:8080/"
        },
        "id": "2goXfSrZ6VZ9",
        "outputId": "d6bf4304-b656-4825-b25d-4cd14bf8bb4f"
      },
      "outputs": [
        {
          "name": "stdout",
          "output_type": "stream",
          "text": [
            "Average average clustering coefficient: 0.22071964421438892\n"
          ]
        }
      ],
      "source": [
        "print('Average average clustering coefficient:', nx.average_clustering(G))"
      ]
    },
    {
      "cell_type": "code",
      "execution_count": null,
      "metadata": {
        "colab": {
          "base_uri": "https://localhost:8080/"
        },
        "id": "U4CdFRiZhqiZ",
        "outputId": "b96dc562-ee17-4657-9148-bd88c1f8465d"
      },
      "outputs": [
        {
          "name": "stdout",
          "output_type": "stream",
          "text": [
            "Average average clustering coefficient in giant component: 0.15817334505180586\n"
          ]
        }
      ],
      "source": [
        "print('Average clustering coefficient of giant component:', nx.average_clustering(Giant_component))"
      ]
    },
    {
      "cell_type": "code",
      "execution_count": null,
      "metadata": {
        "colab": {
          "base_uri": "https://localhost:8080/"
        },
        "id": "tu0ABlJZhyF0",
        "outputId": "d86ac9a4-8958-4f0d-e0df-b081ae5134b3"
      },
      "outputs": [
        {
          "name": "stdout",
          "output_type": "stream",
          "text": [
            "    Node  Eigenvector Centrality\n",
            "0   8441                0.153392\n",
            "1  12809                0.150115\n",
            "2  14667                0.148905\n",
            "3   1306                0.148794\n",
            "4      6                0.148617\n",
            "5  11061                0.147654\n",
            "6  10801                0.147525\n",
            "7    868                0.147345\n",
            "8   3027                0.147163\n",
            "9    103                0.144663\n"
          ]
        }
      ],
      "source": [
        "eigenvector_centrality = eigenvector_centrality = nx.eigenvector_centrality(G, max_iter=500, tol=1e-06)\n",
        "top_10_eigenvector = top_10_centralities(eigenvector_centrality)\n",
        "df_eigenvector = pd.DataFrame(top_10_eigenvector, columns=['Node', 'Eigenvector Centrality'])\n",
        "print(df_eigenvector)"
      ]
    },
    {
      "cell_type": "code",
      "execution_count": null,
      "metadata": {
        "colab": {
          "base_uri": "https://localhost:8080/"
        },
        "id": "0MZCzVhMkoXv",
        "outputId": "33f9996e-2c96-447c-b0ec-674ad4d1de51"
      },
      "outputs": [
        {
          "name": "stdout",
          "output_type": "stream",
          "text": [
            "    Node  Eigenvector Centrality\n",
            "0   8441                0.172818\n",
            "1   1306                0.167072\n",
            "2      6                0.164625\n",
            "3    868                0.163297\n",
            "4  10801                0.161682\n",
            "5  11061                0.159299\n",
            "6    103                0.156216\n",
            "7  12809                0.154346\n",
            "8   3027                0.146139\n",
            "9  14667                0.145195\n"
          ]
        }
      ],
      "source": [
        "eigenvector_centrality = eigenvector_centrality = nx.eigenvector_centrality(original_G, max_iter=500, tol=1e-06)\n",
        "top_10_eigenvector = top_10_centralities(eigenvector_centrality)\n",
        "df_eigenvector = pd.DataFrame(top_10_eigenvector, columns=['Node', 'Eigenvector Centrality'])\n",
        "print(df_eigenvector)"
      ]
    },
    {
      "cell_type": "markdown",
      "metadata": {
        "id": "qOWXhjJqgm21"
      },
      "source": [
        "### Centralities"
      ]
    },
    {
      "cell_type": "code",
      "execution_count": null,
      "metadata": {
        "id": "m2u3y58IPBc5"
      },
      "outputs": [],
      "source": [
        "def top_10_centralities(centrality):\n",
        "    return sorted(centrality.items(), key=lambda x: x[1], reverse=True)[:10]"
      ]
    },
    {
      "cell_type": "code",
      "execution_count": null,
      "metadata": {
        "colab": {
          "base_uri": "https://localhost:8080/"
        },
        "id": "8IzyaoH_jpLy",
        "outputId": "25436450-e428-467e-ad44-be78d85fcec2"
      },
      "outputs": [
        {
          "name": "stdout",
          "output_type": "stream",
          "text": [
            "    Node  Eigenvector Centrality\n",
            "0   8441                0.165618\n",
            "1   1306                0.159721\n",
            "2    868                0.158503\n",
            "3      6                0.158130\n",
            "4  12809                0.156912\n",
            "5  10801                0.156850\n",
            "6  11061                0.154685\n",
            "7    103                0.151311\n",
            "8   3027                0.148767\n",
            "9  14667                0.147926\n"
          ]
        }
      ],
      "source": [
        "eigenvector_centrality = eigenvector_centrality = nx.eigenvector_centrality(G2, max_iter=500, tol=1e-06)\n",
        "top_10_eigenvector = top_10_centralities(eigenvector_centrality)\n",
        "df_eigenvector = pd.DataFrame(top_10_eigenvector, columns=['Node', 'Eigenvector Centrality'])\n",
        "print(df_eigenvector)"
      ]
    },
    {
      "cell_type": "code",
      "execution_count": null,
      "metadata": {
        "colab": {
          "base_uri": "https://localhost:8080/"
        },
        "id": "XI1yTNcfhLSD",
        "outputId": "3dbd6e02-f2c8-4f92-f72c-85b32445cd81"
      },
      "outputs": [
        {
          "name": "stdout",
          "output_type": "stream",
          "text": [
            "    Node  Degree Centrality\n",
            "0   8441           0.043247\n",
            "1      6           0.041892\n",
            "2  12809           0.041441\n",
            "3   1306           0.041260\n",
            "4  10801           0.041260\n",
            "5    868           0.041170\n",
            "6  11061           0.040538\n",
            "7  14667           0.040448\n",
            "8   3027           0.040358\n",
            "9    103           0.039635\n"
          ]
        }
      ],
      "source": [
        "degree_centrality = nx.degree_centrality(G)\n",
        "top_10_degree = top_10_centralities(degree_centrality)\n",
        "df_degree = pd.DataFrame(top_10_degree, columns=['Node', 'Degree Centrality'])\n",
        "print(df_degree)"
      ]
    },
    {
      "cell_type": "code",
      "execution_count": null,
      "metadata": {
        "colab": {
          "base_uri": "https://localhost:8080/"
        },
        "id": "kFkl_tvt1QIa",
        "outputId": "79d43515-b446-4103-9697-313857f8794c"
      },
      "outputs": [
        {
          "name": "stdout",
          "output_type": "stream",
          "text": [
            "    Node  Harmonic Centrality\n",
            "0    406          4366.685714\n",
            "1   1351          4242.685714\n",
            "2    824          4217.135714\n",
            "3   1008          4127.528571\n",
            "4    776          4122.378571\n",
            "5   1177          4106.059524\n",
            "6    640          4090.947619\n",
            "7  10244          4077.388095\n",
            "8  14214          4069.004762\n",
            "9  10659          4064.502381\n"
          ]
        }
      ],
      "source": [
        "harmonic_centrality = nx.harmonic_centrality(G)\n",
        "top_10_harmonic = top_10_centralities(harmonic_centrality)\n",
        "df_harmonic = pd.DataFrame(top_10_harmonic, columns=['Node', 'Harmonic Centrality'])\n",
        "print(df_harmonic)"
      ]
    },
    {
      "cell_type": "code",
      "execution_count": null,
      "metadata": {
        "colab": {
          "base_uri": "https://localhost:8080/"
        },
        "id": "Gprr5LJI1cNP",
        "outputId": "2a589243-3b79-4abc-9293-078ff6f66ccf"
      },
      "outputs": [
        {
          "name": "stdout",
          "output_type": "stream",
          "text": [
            "    Node  Closeness Centrality\n",
            "0    406              0.363309\n",
            "1   1351              0.353980\n",
            "2    824              0.351811\n",
            "3   1008              0.345734\n",
            "4   1177              0.344197\n",
            "5    776              0.343914\n",
            "6  14214              0.342774\n",
            "7  10244              0.342392\n",
            "8    640              0.342112\n",
            "9  10659              0.341575\n"
          ]
        }
      ],
      "source": [
        "closeness_centrality = nx.closeness_centrality(G)\n",
        "top_10_closeness = top_10_centralities(closeness_centrality)\n",
        "df_closeness = pd.DataFrame(top_10_closeness, columns=['Node', 'Closeness Centrality'])\n",
        "print(df_closeness)"
      ]
    },
    {
      "cell_type": "code",
      "execution_count": null,
      "metadata": {
        "colab": {
          "base_uri": "https://localhost:8080/"
        },
        "id": "UNG0gvJh51Vc",
        "outputId": "97250f3f-df17-4038-f0d1-461685741602"
      },
      "outputs": [
        {
          "name": "stdout",
          "output_type": "stream",
          "text": [
            "    Node  Betweenness Centrality\n",
            "0    406                0.020131\n",
            "1    776                0.017181\n",
            "2   1351                0.017124\n",
            "3    824                0.015978\n",
            "4   6849                0.013201\n",
            "5    349                0.013151\n",
            "6   1846                0.012791\n",
            "7    672                0.011596\n",
            "8   1736                0.010341\n",
            "9  10244                0.009780\n"
          ]
        }
      ],
      "source": [
        "betweenness_centrality = nx.betweenness_centrality(G)\n",
        "top_10_betweenness = top_10_centralities(betweenness_centrality)\n",
        "df_betweenness = pd.DataFrame(top_10_betweenness, columns=['Node', 'Betweenness Centrality'])\n",
        "print(df_betweenness)"
      ]
    },
    {
      "cell_type": "markdown",
      "metadata": {
        "id": "YUTOvazQ8Sp0"
      },
      "source": [
        "### Community Detection"
      ]
    },
    {
      "cell_type": "code",
      "execution_count": null,
      "metadata": {
        "colab": {
          "base_uri": "https://localhost:8080/",
          "height": 391
        },
        "id": "zyWMPGNiz21-",
        "outputId": "bd638908-f952-420c-8809-a912360a125e"
      },
      "outputs": [],
      "source": [
        "# Detect communities using Girvan_Newman method\n",
        "communities_generator = nx.community.girvan_newman(G)\n",
        "\n",
        "for communities in itertools.islice(communities_generator, 1):\n",
        "    l=list(sorted(c) for c in communities)\n",
        "    print(l)\n",
        "\n",
        "# Apply different colors for communities\n",
        "colors = ['b', 'r', 'y', 'g']\n",
        "node_colors = {}\n",
        "print(enumerate(l))\n",
        "for i, c in enumerate(l):\n",
        "  print(i,c)\n",
        "  for node in c:\n",
        "    node_colors[node] = colors[i]\n",
        "\n",
        "# Draw a network\n",
        "node_colors = dict(sorted(node_colors.items()))\n",
        "nx.draw(G, with_labels=True, node_color = list(node_colors.values()))"
      ]
    },
    {
      "cell_type": "markdown",
      "metadata": {
        "id": "Lkn5cxqi8Xkz"
      },
      "source": [
        "### Network Connectivity"
      ]
    },
    {
      "cell_type": "code",
      "execution_count": null,
      "metadata": {
        "colab": {
          "base_uri": "https://localhost:8080/"
        },
        "id": "7-JcGwWt8iIf",
        "outputId": "5fbac9ba-2c27-44b9-ad2f-f4031300a3fe"
      },
      "outputs": [
        {
          "name": "stdout",
          "output_type": "stream",
          "text": [
            "Critical nodes: ['14638', '672', '3177', '711', '8629', '15100', '27846', '4902', '6596', '7309', '17302', '18613', '2494', '19468', '10559', '13016', '27162', '5270', '93056', '7975', '3592', '640', '9167', '7731', '24508', '14130', '27639', '22953', '8783', '6112', '48536', '7029', '13738', '2166', '7499', '5826', '4238', '2318', '9690', '4678', '2445', '2235', '8538', '31922', '799', '1470', '798', '800', '1102', '5258', '8852', '7770', '20037', '40897', '2050', '65821', '2432', '37105', '19463', '45923', '23518', '5494', '15041', '9989', '55350', '13428', '40776', '1904', '56693', '6520', '9051', '11985', '26264', '6465', '6896']\n",
            "Minimum number of nodes to remove: 75\n"
          ]
        }
      ],
      "source": [
        "# Calculate the number of connected components in the original graph\n",
        "num_components_orig = nx.number_connected_components(G)\n",
        "\n",
        "# Iterate through nodes to find critical nodes for disconnection\n",
        "critical_nodes = []\n",
        "for node in G.nodes():\n",
        "    # Temporarily remove the node\n",
        "    temp_graph = G.copy()\n",
        "    temp_graph.remove_node(node)\n",
        "\n",
        "    # Calculate the number of connected components after node removal\n",
        "    num_components = nx.number_connected_components(temp_graph)\n",
        "\n",
        "    # Check if the removal increased the number of connected components\n",
        "    if num_components > num_components_orig:\n",
        "        critical_nodes.append(node)\n",
        "\n",
        "# Output the critical nodes and the minimum number of nodes to remove\n",
        "print(\"Critical nodes:\", critical_nodes)\n",
        "print(\"Minimum number of nodes to remove:\", len(critical_nodes))"
      ]
    },
    {
      "cell_type": "markdown",
      "metadata": {
        "id": "qfMvU_Cf8avR"
      },
      "source": [
        "### Path Analysis"
      ]
    },
    {
      "cell_type": "code",
      "execution_count": null,
      "metadata": {
        "colab": {
          "base_uri": "https://localhost:8080/"
        },
        "id": "Q9AbqRvm8iiY",
        "outputId": "4301dc34-6aba-4e0e-88b7-d04fb6a34eb8"
      },
      "outputs": [
        {
          "name": "stdout",
          "output_type": "stream",
          "text": [
            "Shortest path: 1, Nodes: [(0, 1), (0, 3), (0, 5), (0, 14), (0, 17), (0, 18), (1, 0), (1, 3), (1, 6), (1, 7), (1, 12), (1, 13), (1, 17), (1, 19), (2, 5), (2, 10), (2, 11), (2, 12), (2, 18), (3, 0), (3, 1), (3, 5), (3, 8), (3, 10), (3, 15), (4, 15), (5, 0), (5, 2), (5, 3), (5, 9), (6, 1), (6, 8), (6, 13), (6, 19), (7, 1), (7, 10), (7, 13), (8, 3), (8, 6), (8, 9), (8, 12), (8, 16), (9, 5), (9, 8), (9, 13), (9, 19), (10, 2), (10, 3), (10, 7), (10, 13), (10, 14), (10, 15), (10, 17), (10, 18), (11, 2), (11, 12), (11, 13), (11, 14), (11, 15), (11, 16), (12, 1), (12, 2), (12, 8), (12, 11), (12, 14), (12, 15), (12, 16), (12, 18), (13, 1), (13, 6), (13, 7), (13, 9), (13, 10), (13, 11), (13, 18), (14, 0), (14, 10), (14, 11), (14, 12), (14, 17), (15, 3), (15, 4), (15, 10), (15, 11), (15, 12), (15, 17), (15, 18), (16, 8), (16, 11), (16, 12), (17, 0), (17, 1), (17, 10), (17, 14), (17, 15), (18, 0), (18, 2), (18, 10), (18, 12), (18, 13), (18, 15), (19, 1), (19, 6), (19, 9)]\n"
          ]
        }
      ],
      "source": [
        "# Find shortest paths between all pairs of nodes\n",
        "all_shortest_paths = dict(nx.all_pairs_shortest_path(G))\n",
        "\n",
        "min_path = len(all_shortest_paths[0][1])\n",
        "\n",
        "pairs = []\n",
        "for source_node in all_shortest_paths:\n",
        "    for target_node, shortest_path in all_shortest_paths[source_node].items():\n",
        "      if target_node != source_node and min_path >= len(shortest_path)-1:\n",
        "        min_path = len(shortest_path)-1\n",
        "        pairs.append((source_node,target_node))\n",
        "\n",
        "print(f\"Shortest path: {min_path}, Nodes: {pairs}\")"
      ]
    },
    {
      "cell_type": "code",
      "execution_count": null,
      "metadata": {
        "id": "YKH2KqS_70_B"
      },
      "outputs": [],
      "source": [
        "# To analyze the most used paths in a network, we calculate the frequency of each path used in the network and\n",
        "# identify the paths that are traversed the most\n",
        "\n",
        "# Find all simple paths in the graph\n",
        "nodes = G.nodes\n",
        "all_paths = []\n",
        "for start in nodes :\n",
        "  for end in nodes :\n",
        "    for path in nx.all_simple_paths(G, start, end):\n",
        "      all_paths.append(path)\n",
        "\n",
        "# Count the frequency of each path\n",
        "path_counts = {}\n",
        "for path in all_paths:\n",
        "    path_tuple = tuple(path)\n",
        "    if path_tuple in path_counts:\n",
        "        path_counts[path_tuple] += 1\n",
        "    else:\n",
        "        path_counts[path_tuple] = 1\n",
        "\n",
        "# Sort paths by frequency\n",
        "sorted_paths = sorted(path_counts.items(), key=lambda x: x[1], reverse=True)\n",
        "\n",
        "# Output the most used paths and their frequencies\n",
        "print(\"Most used paths:\")\n",
        "for path, count in sorted_paths:\n",
        "    print(f\"Path: {path}, Frequency: {count}\")"
      ]
    },
    {
      "cell_type": "code",
      "execution_count": 6,
      "metadata": {
        "colab": {
          "base_uri": "https://localhost:8080/"
        },
        "id": "KY2b7-P59x0k",
        "outputId": "ca7a8fc8-798f-46ee-acda-a465187eaa62"
      },
      "outputs": [
        {
          "name": "stdout",
          "output_type": "stream",
          "text": [
            "Total number of unique paths between any two nodes: 12253508\n"
          ]
        }
      ],
      "source": [
        "# Calculate the number of unique paths between all pairs of nodes\n",
        "all_pairs_paths = dict(nx.all_pairs_shortest_path(G))\n",
        "\n",
        "# Initialize a dictionary to store the count of unique paths\n",
        "unique_paths_count = {}\n",
        "\n",
        "# Calculate the number of unique paths for each pair of nodes\n",
        "for source_node, paths in all_pairs_paths.items():\n",
        "    for target_node, path in paths.items():\n",
        "        if source_node != target_node:\n",
        "            path_tuple = tuple(path)\n",
        "            if path_tuple not in unique_paths_count:\n",
        "                unique_paths_count[path_tuple] = 1\n",
        "\n",
        "# Output the total number of unique paths\n",
        "print(f\"Total number of unique paths between any two nodes: {len(unique_paths_count)}\")"
      ]
    }
  ],
  "metadata": {
    "colab": {
      "provenance": []
    },
    "kernelspec": {
      "display_name": "Python 3",
      "name": "python3"
    },
    "language_info": {
      "name": "python"
    }
  },
  "nbformat": 4,
  "nbformat_minor": 0
}
